{
  "nbformat": 4,
  "nbformat_minor": 0,
  "metadata": {
    "colab": {
      "provenance": [],
      "authorship_tag": "ABX9TyPWUt5kUmmYCFglk9SXZSPA",
      "include_colab_link": true
    },
    "kernelspec": {
      "name": "python3",
      "display_name": "Python 3"
    },
    "language_info": {
      "name": "python"
    }
  },
  "cells": [
    {
      "cell_type": "markdown",
      "metadata": {
        "id": "view-in-github",
        "colab_type": "text"
      },
      "source": [
        "<a href=\"https://colab.research.google.com/github/MocT117/datasciencecoursera/blob/master/FollowupProject.ipynb\" target=\"_parent\"><img src=\"https://colab.research.google.com/assets/colab-badge.svg\" alt=\"Open In Colab\"/></a>"
      ]
    },
    {
      "cell_type": "code",
      "execution_count": 4,
      "metadata": {
        "id": "A12B9yYXaU82"
      },
      "outputs": [],
      "source": [
        "import os\n",
        "import pandas as pd\n",
        "from datetime import datetime\n",
        "import warnings"
      ]
    },
    {
      "cell_type": "markdown",
      "source": [
        "El siguiente código tiene como propósito generar un archivo excel que se actualice diariemente con la información de la cadena de suminstro de krones\n",
        "\n"
      ],
      "metadata": {
        "id": "fTdoKIZOZfVI"
      }
    },
    {
      "cell_type": "code",
      "source": [
        "from google.colab import files\n",
        "import io\n",
        "uploaded = files.upload() #archivos que se van a procesar\n",
        "#conversion de los archivos a dtf\n",
        "dataframes = {}\n",
        "\n",
        "for filename in uploaded.keys():\n",
        "  try:\n",
        "    df = pd.read_excel(io.BytesIO(uploaded[filename]), engine=\"openpyxl\")\n",
        "    dataframes[filename] = df\n",
        "    print(f\"Arhivo cargado: {filename} | Filas: {df.shape[0]} | Columnas: {df.shape[1]}\" )\n",
        "  except Exception as e:\n",
        "    print(f\"Error al leer {filename}: {e}\")\n",
        "\n"
      ],
      "metadata": {
        "colab": {
          "base_uri": "https://localhost:8080/",
          "height": 246
        },
        "id": "YhzZBDX4kBGU",
        "outputId": "27a40689-af7b-4cfb-bc49-ea1443763a7a"
      },
      "execution_count": 5,
      "outputs": [
        {
          "output_type": "display_data",
          "data": {
            "text/plain": [
              "<IPython.core.display.HTML object>"
            ],
            "text/html": [
              "\n",
              "     <input type=\"file\" id=\"files-d8e2c737-a7c5-4978-9431-a36b47443fe3\" name=\"files[]\" multiple disabled\n",
              "        style=\"border:none\" />\n",
              "     <output id=\"result-d8e2c737-a7c5-4978-9431-a36b47443fe3\">\n",
              "      Upload widget is only available when the cell has been executed in the\n",
              "      current browser session. Please rerun this cell to enable.\n",
              "      </output>\n",
              "      <script>// Copyright 2017 Google LLC\n",
              "//\n",
              "// Licensed under the Apache License, Version 2.0 (the \"License\");\n",
              "// you may not use this file except in compliance with the License.\n",
              "// You may obtain a copy of the License at\n",
              "//\n",
              "//      http://www.apache.org/licenses/LICENSE-2.0\n",
              "//\n",
              "// Unless required by applicable law or agreed to in writing, software\n",
              "// distributed under the License is distributed on an \"AS IS\" BASIS,\n",
              "// WITHOUT WARRANTIES OR CONDITIONS OF ANY KIND, either express or implied.\n",
              "// See the License for the specific language governing permissions and\n",
              "// limitations under the License.\n",
              "\n",
              "/**\n",
              " * @fileoverview Helpers for google.colab Python module.\n",
              " */\n",
              "(function(scope) {\n",
              "function span(text, styleAttributes = {}) {\n",
              "  const element = document.createElement('span');\n",
              "  element.textContent = text;\n",
              "  for (const key of Object.keys(styleAttributes)) {\n",
              "    element.style[key] = styleAttributes[key];\n",
              "  }\n",
              "  return element;\n",
              "}\n",
              "\n",
              "// Max number of bytes which will be uploaded at a time.\n",
              "const MAX_PAYLOAD_SIZE = 100 * 1024;\n",
              "\n",
              "function _uploadFiles(inputId, outputId) {\n",
              "  const steps = uploadFilesStep(inputId, outputId);\n",
              "  const outputElement = document.getElementById(outputId);\n",
              "  // Cache steps on the outputElement to make it available for the next call\n",
              "  // to uploadFilesContinue from Python.\n",
              "  outputElement.steps = steps;\n",
              "\n",
              "  return _uploadFilesContinue(outputId);\n",
              "}\n",
              "\n",
              "// This is roughly an async generator (not supported in the browser yet),\n",
              "// where there are multiple asynchronous steps and the Python side is going\n",
              "// to poll for completion of each step.\n",
              "// This uses a Promise to block the python side on completion of each step,\n",
              "// then passes the result of the previous step as the input to the next step.\n",
              "function _uploadFilesContinue(outputId) {\n",
              "  const outputElement = document.getElementById(outputId);\n",
              "  const steps = outputElement.steps;\n",
              "\n",
              "  const next = steps.next(outputElement.lastPromiseValue);\n",
              "  return Promise.resolve(next.value.promise).then((value) => {\n",
              "    // Cache the last promise value to make it available to the next\n",
              "    // step of the generator.\n",
              "    outputElement.lastPromiseValue = value;\n",
              "    return next.value.response;\n",
              "  });\n",
              "}\n",
              "\n",
              "/**\n",
              " * Generator function which is called between each async step of the upload\n",
              " * process.\n",
              " * @param {string} inputId Element ID of the input file picker element.\n",
              " * @param {string} outputId Element ID of the output display.\n",
              " * @return {!Iterable<!Object>} Iterable of next steps.\n",
              " */\n",
              "function* uploadFilesStep(inputId, outputId) {\n",
              "  const inputElement = document.getElementById(inputId);\n",
              "  inputElement.disabled = false;\n",
              "\n",
              "  const outputElement = document.getElementById(outputId);\n",
              "  outputElement.innerHTML = '';\n",
              "\n",
              "  const pickedPromise = new Promise((resolve) => {\n",
              "    inputElement.addEventListener('change', (e) => {\n",
              "      resolve(e.target.files);\n",
              "    });\n",
              "  });\n",
              "\n",
              "  const cancel = document.createElement('button');\n",
              "  inputElement.parentElement.appendChild(cancel);\n",
              "  cancel.textContent = 'Cancel upload';\n",
              "  const cancelPromise = new Promise((resolve) => {\n",
              "    cancel.onclick = () => {\n",
              "      resolve(null);\n",
              "    };\n",
              "  });\n",
              "\n",
              "  // Wait for the user to pick the files.\n",
              "  const files = yield {\n",
              "    promise: Promise.race([pickedPromise, cancelPromise]),\n",
              "    response: {\n",
              "      action: 'starting',\n",
              "    }\n",
              "  };\n",
              "\n",
              "  cancel.remove();\n",
              "\n",
              "  // Disable the input element since further picks are not allowed.\n",
              "  inputElement.disabled = true;\n",
              "\n",
              "  if (!files) {\n",
              "    return {\n",
              "      response: {\n",
              "        action: 'complete',\n",
              "      }\n",
              "    };\n",
              "  }\n",
              "\n",
              "  for (const file of files) {\n",
              "    const li = document.createElement('li');\n",
              "    li.append(span(file.name, {fontWeight: 'bold'}));\n",
              "    li.append(span(\n",
              "        `(${file.type || 'n/a'}) - ${file.size} bytes, ` +\n",
              "        `last modified: ${\n",
              "            file.lastModifiedDate ? file.lastModifiedDate.toLocaleDateString() :\n",
              "                                    'n/a'} - `));\n",
              "    const percent = span('0% done');\n",
              "    li.appendChild(percent);\n",
              "\n",
              "    outputElement.appendChild(li);\n",
              "\n",
              "    const fileDataPromise = new Promise((resolve) => {\n",
              "      const reader = new FileReader();\n",
              "      reader.onload = (e) => {\n",
              "        resolve(e.target.result);\n",
              "      };\n",
              "      reader.readAsArrayBuffer(file);\n",
              "    });\n",
              "    // Wait for the data to be ready.\n",
              "    let fileData = yield {\n",
              "      promise: fileDataPromise,\n",
              "      response: {\n",
              "        action: 'continue',\n",
              "      }\n",
              "    };\n",
              "\n",
              "    // Use a chunked sending to avoid message size limits. See b/62115660.\n",
              "    let position = 0;\n",
              "    do {\n",
              "      const length = Math.min(fileData.byteLength - position, MAX_PAYLOAD_SIZE);\n",
              "      const chunk = new Uint8Array(fileData, position, length);\n",
              "      position += length;\n",
              "\n",
              "      const base64 = btoa(String.fromCharCode.apply(null, chunk));\n",
              "      yield {\n",
              "        response: {\n",
              "          action: 'append',\n",
              "          file: file.name,\n",
              "          data: base64,\n",
              "        },\n",
              "      };\n",
              "\n",
              "      let percentDone = fileData.byteLength === 0 ?\n",
              "          100 :\n",
              "          Math.round((position / fileData.byteLength) * 100);\n",
              "      percent.textContent = `${percentDone}% done`;\n",
              "\n",
              "    } while (position < fileData.byteLength);\n",
              "  }\n",
              "\n",
              "  // All done.\n",
              "  yield {\n",
              "    response: {\n",
              "      action: 'complete',\n",
              "    }\n",
              "  };\n",
              "}\n",
              "\n",
              "scope.google = scope.google || {};\n",
              "scope.google.colab = scope.google.colab || {};\n",
              "scope.google.colab._files = {\n",
              "  _uploadFiles,\n",
              "  _uploadFilesContinue,\n",
              "};\n",
              "})(self);\n",
              "</script> "
            ]
          },
          "metadata": {}
        },
        {
          "output_type": "stream",
          "name": "stdout",
          "text": [
            "Saving CONTROL DE IMPORTACIONES.xlsx to CONTROL DE IMPORTACIONES.xlsx\n",
            "Saving EXW KAG.XLSX to EXW KAG.XLSX\n",
            "Saving Follow-up SPS DC03.XLSX to Follow-up SPS DC03.XLSX\n",
            "Saving SO KAG.XLSX to SO KAG.XLSX\n",
            "Arhivo cargado: CONTROL DE IMPORTACIONES.xlsx | Filas: 4495 | Columnas: 21\n",
            "Arhivo cargado: EXW KAG.XLSX | Filas: 7311 | Columnas: 36\n",
            "Arhivo cargado: Follow-up SPS DC03.XLSX | Filas: 15884 | Columnas: 32\n",
            "Arhivo cargado: SO KAG.XLSX | Filas: 18485 | Columnas: 11\n"
          ]
        }
      ]
    },
    {
      "cell_type": "code",
      "source": [
        "df_base = \"Follow-up SPS DC03.XLSX\"\n",
        "if df_base in dataframes:\n",
        "  df_base = dataframes[df_base]\n",
        "  print(\"Columnas del DataFrame base:\")\n",
        "  print(\"df_base.colums.tolist()\")\n",
        "else:\n",
        "        print(f\"No se encontró el archivo {df_base}en los archivos cargados\")\n",
        "\n"
      ],
      "metadata": {
        "colab": {
          "base_uri": "https://localhost:8080/"
        },
        "id": "35aTnNQbkP_7",
        "outputId": "b84d14bb-a5e1-4462-def0-07c70b669b01"
      },
      "execution_count": 18,
      "outputs": [
        {
          "output_type": "stream",
          "name": "stdout",
          "text": [
            "Columnas del DataFrame base:\n",
            "df_base.colums.tolist()\n"
          ]
        }
      ]
    },
    {
      "cell_type": "markdown",
      "source": [],
      "metadata": {
        "id": "FBlUk2vRqM_r"
      }
    },
    {
      "cell_type": "markdown",
      "source": [
        "Eliminación de columnas"
      ],
      "metadata": {
        "id": "0CzVaZ6XqNBu"
      }
    },
    {
      "cell_type": "code",
      "source": [
        "columnas_a_eliminar = [\"Centro de coste\",\"Elemento PEP\", \"Orden\", \"Activo fijo\",\"Subnúmero\", \"Grafo\",\"Operación\", \"Indicador de borrado\",\"Imputación actual\",'Cl.documento compras','Tipo doc.compras','Cantidad base','Cantidad de posiciones','Grupo de compras']\n",
        "for col in columnas_a_eliminar:\n",
        "  if col not in df_base.columns:\n",
        "    print(f\" La columna '{col}' no está en el df y será ignorada.\")\n",
        "df_base_limpio = df_base.drop(columns=[col for col in columnas_a_eliminar if col in df_base.columns])\n",
        "print(\"\\Columnas despues de eliminar las especificaciones:\")\n",
        "print(df_base_limpio.columns.tolist())"
      ],
      "metadata": {
        "id": "PoFoomUsqRnt",
        "colab": {
          "base_uri": "https://localhost:8080/"
        },
        "outputId": "67f216bb-02e3-49de-b520-15979075de34"
      },
      "execution_count": 45,
      "outputs": [
        {
          "output_type": "stream",
          "name": "stdout",
          "text": [
            "\\Columnas despues de eliminar las especificaciones:\n",
            "['Documento compras', 'Posición', 'Doc.comercial', 'Posición.1', 'Fecha documento', 'Proveedor/Centro suministrador', 'Material', 'Texto breve', 'Grupo de artículos', 'Tipo de posición', 'Tipo de imputación', 'Centro', 'Almacén', 'Cantidad de pedido', 'Unidad medida pedido', 'Precio neto', 'Moneda', 'Cantidad de imputación']\n"
          ]
        }
      ]
    },
    {
      "cell_type": "markdown",
      "source": [],
      "metadata": {
        "id": "EmWWaAPj3W9o"
      }
    },
    {
      "cell_type": "code",
      "source": [
        "#renombrar columnas especiicas\n",
        "\n",
        "columnas_renombrar = {\n",
        "    'Posición': 'Posición PO',\n",
        "    'Fecha documento': 'Fecha de PO',\n",
        "    'Documento compras': 'PO',\n",
        "    'Posición.1':'Posición KMEX',\n",
        "    'Doc.comercial': 'SO KMEX'\n",
        "\n",
        "}\n",
        "df_base_limpio = df_base_limpio.rename(columns={k: v for k, v in columnas_renombrar.items() if k in df_base_limpio.columns})\n",
        "#2. agregar columna 'SO AKG' vacía\n",
        "df_base_limpio['SO AKG'] = \"\"\n",
        "print(df_base_limpio.head(3))\n"
      ],
      "metadata": {
        "colab": {
          "base_uri": "https://localhost:8080/"
        },
        "id": "x_nfozh83ayF",
        "outputId": "612f1558-9644-4b6b-bf88-9d69cb8f56ef"
      },
      "execution_count": 46,
      "outputs": [
        {
          "output_type": "stream",
          "name": "stdout",
          "text": [
            "           PO  Posición PO     SO KMEX  Posición KMEX Fecha de PO  \\\n",
            "0  4512883075           10   1259948.0             10  2025-01-02   \n",
            "1  4512885572          110  53868810.0          10150  2025-01-03   \n",
            "2  4512885594          260  53868829.0          10690  2025-01-03   \n",
            "\n",
            "  Proveedor/Centro suministrador    Material  \\\n",
            "0           650100     KRONES AG  0907308319   \n",
            "1          650018     KRONES INC  0903181065   \n",
            "2          650018     KRONES INC  0904639435   \n",
            "\n",
            "                                Texto breve Grupo de artículos  \\\n",
            "0  Change of name plates, cable tags and do               VW00   \n",
            "1    Direct-on-line starter 0.45 - 0.63A/10          EI0050000   \n",
            "2                             Lamp assembly          EK0200000   \n",
            "\n",
            "  Tipo de posición Tipo de imputación  Centro  Almacén  Cantidad de pedido  \\\n",
            "0              NaN                  3    8301      1.0                 1.0   \n",
            "1              NaN                  M    8301      1.0                 2.0   \n",
            "2              NaN                  M    8301      1.0                 3.0   \n",
            "\n",
            "  Unidad medida pedido  Precio neto Moneda  Cantidad de imputación SO AKG  \n",
            "0                  UNI     52394.55    EUR                     1.0         \n",
            "1                  UNI       115.63    EUR                     2.0         \n",
            "2                  UNI      7680.11    EUR                     3.0         \n"
          ]
        }
      ]
    },
    {
      "cell_type": "markdown",
      "source": [
        "CÓMO SE OBTUVO TIPO DE ENVÍO"
      ],
      "metadata": {
        "id": "mVhmTKZ1akHK"
      }
    },
    {
      "cell_type": "code",
      "source": [
        "df_base_limpio.columns"
      ],
      "metadata": {
        "colab": {
          "base_uri": "https://localhost:8080/"
        },
        "id": "MAtQ_E0yOzmX",
        "outputId": "d921c814-906b-4a35-e0c1-21267d819b14"
      },
      "execution_count": 47,
      "outputs": [
        {
          "output_type": "execute_result",
          "data": {
            "text/plain": [
              "Index(['PO', 'Posición PO', 'SO KMEX', 'Posición KMEX', 'Fecha de PO',\n",
              "       'Proveedor/Centro suministrador', 'Material', 'Texto breve',\n",
              "       'Grupo de artículos', 'Tipo de posición', 'Tipo de imputación',\n",
              "       'Centro', 'Almacén', 'Cantidad de pedido', 'Unidad medida pedido',\n",
              "       'Precio neto', 'Moneda', 'Cantidad de imputación', 'SO AKG'],\n",
              "      dtype='object')"
            ]
          },
          "metadata": {},
          "execution_count": 47
        }
      ]
    },
    {
      "cell_type": "code",
      "source": [
        "print(df_base_limpio.columns)"
      ],
      "metadata": {
        "colab": {
          "base_uri": "https://localhost:8080/"
        },
        "id": "Ehtb6zP8fJSQ",
        "outputId": "2c2778dd-97f0-4921-8094-0022392f3556"
      },
      "execution_count": 49,
      "outputs": [
        {
          "output_type": "stream",
          "name": "stdout",
          "text": [
            "Index(['PO', 'Posición PO', 'SO KMEX', 'Posición KMEX', 'Fecha de PO',\n",
            "       'Proveedor/Centro suministrador', 'Material', 'Texto breve',\n",
            "       'Grupo de artículos', 'Tipo de posición', 'Tipo de imputación',\n",
            "       'Centro', 'Almacén', 'Cantidad de pedido', 'Unidad medida pedido',\n",
            "       'Precio neto', 'Moneda', 'Cantidad de imputación', 'SO AKG'],\n",
            "      dtype='object')\n"
          ]
        }
      ]
    },
    {
      "cell_type": "markdown",
      "source": [
        "Funcion modular VLOOKUP"
      ],
      "metadata": {
        "id": "3Fp0qVqifsZ-"
      }
    },
    {
      "cell_type": "code",
      "source": [
        "def vlookup_en_df(\n",
        "    df_destino: pd.DataFrame, #excel o df al qe se agrega el valor\n",
        "    df_origen: pd.DataFrame,  #de donde se extrae la informaicon\n",
        "    columna_busqueda: str,    #Columna en df_destino a buscar en df_origen\n",
        "    columna_origen_key: str,  #Columna en df_origen para comparar, columna clvae en df orien\n",
        "    columna_valor: str,       #columna en df_origen de donde traer el vlaor\n",
        "    columna_nueva: str        #columna en df_destino donde poner el valor traído\n",
        "\n",
        ") -> pd.DataFrame:\n",
        "\n",
        "  #Creamos un diccionario {key.valor}\n",
        "  dic_vlookup= df_origen.set_index(columna_origen_key)[columna_valor].to_dict()\n",
        "  #Asiganmos el resultado usando map(rápido y eficiente)\n",
        "  df_destino[columna_nueva] = df_destino[columna_busqueda].map(dic_vlookup)\n",
        "  return df_destino\n"
      ],
      "metadata": {
        "id": "7wFg51JjfT9d"
      },
      "execution_count": 51,
      "outputs": []
    },
    {
      "cell_type": "code",
      "source": [],
      "metadata": {
        "id": "cHT1jXDnl--E"
      },
      "execution_count": null,
      "outputs": []
    },
    {
      "cell_type": "markdown",
      "source": [],
      "metadata": {
        "id": "AAXBm7ob3U40"
      }
    }
  ]
}